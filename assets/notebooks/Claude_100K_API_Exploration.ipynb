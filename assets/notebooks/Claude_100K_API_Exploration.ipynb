{
  "nbformat": 4,
  "nbformat_minor": 0,
  "metadata": {
    "colab": {
      "provenance": []
    },
    "kernelspec": {
      "name": "python3",
      "display_name": "Python 3"
    },
    "language_info": {
      "name": "python"
    }
  },
  "cells": [
    {
      "cell_type": "code",
      "source": [
        "!pip -qq install anthropic langchain"
      ],
      "metadata": {
        "colab": {
          "base_uri": "https://localhost:8080/"
        },
        "id": "TGaOVJ7CHFBt",
        "outputId": "0070e02d-474c-47ca-d948-72b06f12ac71"
      },
      "execution_count": 1,
      "outputs": [
        {
          "output_type": "stream",
          "name": "stdout",
          "text": [
            "\u001b[2K     \u001b[90m━━━━━━━━━━━━━━━━━━━━━━━━━━━━━━━━━━━━━━\u001b[0m \u001b[32m975.6/975.6 kB\u001b[0m \u001b[31m11.9 MB/s\u001b[0m eta \u001b[36m0:00:00\u001b[0m\n",
            "\u001b[2K     \u001b[90m━━━━━━━━━━━━━━━━━━━━━━━━━━━━━━━━━━━━━━━━\u001b[0m \u001b[32m75.4/75.4 kB\u001b[0m \u001b[31m5.2 MB/s\u001b[0m eta \u001b[36m0:00:00\u001b[0m\n",
            "\u001b[2K     \u001b[90m━━━━━━━━━━━━━━━━━━━━━━━━━━━━━━━━━━━━━━━━\u001b[0m \u001b[32m7.8/7.8 MB\u001b[0m \u001b[31m59.9 MB/s\u001b[0m eta \u001b[36m0:00:00\u001b[0m\n",
            "\u001b[2K     \u001b[90m━━━━━━━━━━━━━━━━━━━━━━━━━━━━━━━━━━━━━━━━\u001b[0m \u001b[32m1.0/1.0 MB\u001b[0m \u001b[31m68.4 MB/s\u001b[0m eta \u001b[36m0:00:00\u001b[0m\n",
            "\u001b[2K     \u001b[90m━━━━━━━━━━━━━━━━━━━━━━━━━━━━━━━━━━━━━━━━\u001b[0m \u001b[32m90.0/90.0 kB\u001b[0m \u001b[31m9.6 MB/s\u001b[0m eta \u001b[36m0:00:00\u001b[0m\n",
            "\u001b[2K     \u001b[90m━━━━━━━━━━━━━━━━━━━━━━━━━━━━━━━━━━━━━━\u001b[0m \u001b[32m114.5/114.5 kB\u001b[0m \u001b[31m16.2 MB/s\u001b[0m eta \u001b[36m0:00:00\u001b[0m\n",
            "\u001b[2K     \u001b[90m━━━━━━━━━━━━━━━━━━━━━━━━━━━━━━━━━━━━━━\u001b[0m \u001b[32m268.8/268.8 kB\u001b[0m \u001b[31m32.6 MB/s\u001b[0m eta \u001b[36m0:00:00\u001b[0m\n",
            "\u001b[2K     \u001b[90m━━━━━━━━━━━━━━━━━━━━━━━━━━━━━━━━━━━━━━\u001b[0m \u001b[32m149.6/149.6 kB\u001b[0m \u001b[31m20.2 MB/s\u001b[0m eta \u001b[36m0:00:00\u001b[0m\n",
            "\u001b[2K     \u001b[90m━━━━━━━━━━━━━━━━━━━━━━━━━━━━━━━━━━━━━━━━\u001b[0m \u001b[32m49.1/49.1 kB\u001b[0m \u001b[31m6.3 MB/s\u001b[0m eta \u001b[36m0:00:00\u001b[0m\n",
            "\u001b[2K     \u001b[90m━━━━━━━━━━━━━━━━━━━━━━━━━━━━━━━━━━━━━━━━\u001b[0m \u001b[32m72.5/72.5 kB\u001b[0m \u001b[31m8.5 MB/s\u001b[0m eta \u001b[36m0:00:00\u001b[0m\n",
            "\u001b[2K     \u001b[90m━━━━━━━━━━━━━━━━━━━━━━━━━━━━━━━━━━━━━━━━\u001b[0m \u001b[32m58.3/58.3 kB\u001b[0m \u001b[31m8.3 MB/s\u001b[0m eta \u001b[36m0:00:00\u001b[0m\n",
            "\u001b[?25h"
          ]
        }
      ]
    },
    {
      "cell_type": "code",
      "source": [
        "from langchain.chat_models import ChatAnthropic\n",
        "from langchain.prompts.chat import (\n",
        "    ChatPromptTemplate,\n",
        "    SystemMessagePromptTemplate,\n",
        "    AIMessagePromptTemplate,\n",
        "    HumanMessagePromptTemplate,\n",
        ")\n",
        "from langchain.schema import (\n",
        "    AIMessage,\n",
        "    HumanMessage,\n",
        "    SystemMessage\n",
        ")"
      ],
      "metadata": {
        "id": "bpCINHLpHHN9"
      },
      "execution_count": 2,
      "outputs": []
    },
    {
      "cell_type": "code",
      "source": [
        "ANTHROPIC_MODEL_NAME = \"claude-v1.3-100k\" #@param [\"claude-v1.3\",\"claude-v1.3-100k\",\"claude-v1.2\",\"claude-v1.0\"]\n",
        "from getpass import getpass\n",
        "ANTHROPIC_API_KEY = getpass()"
      ],
      "metadata": {
        "id": "bqSESwg_JPKQ",
        "colab": {
          "base_uri": "https://localhost:8080/"
        },
        "outputId": "612a38cf-8d59-41c0-f0da-abd5562f6a62"
      },
      "execution_count": 3,
      "outputs": [
        {
          "name": "stdout",
          "output_type": "stream",
          "text": [
            "··········\n"
          ]
        }
      ]
    },
    {
      "cell_type": "code",
      "source": [
        "chat = ChatAnthropic(\n",
        "    model=ANTHROPIC_MODEL_NAME,\n",
        "    anthropic_api_key=ANTHROPIC_API_KEY\n",
        ")"
      ],
      "metadata": {
        "id": "yKr5g0KfHI1L"
      },
      "execution_count": 4,
      "outputs": []
    },
    {
      "cell_type": "code",
      "source": [
        "messages = [\n",
        "    HumanMessage(content=\"Generate a sample python code that adds two numbers. Generate only code, and put it between two markdown code block separators.\")\n",
        "]\n",
        "chat(messages)"
      ],
      "metadata": {
        "colab": {
          "base_uri": "https://localhost:8080/"
        },
        "id": "G3kv5-LUHK5M",
        "outputId": "54485efb-d2ed-4ec2-c47d-657d98c6ce43"
      },
      "execution_count": 5,
      "outputs": [
        {
          "output_type": "execute_result",
          "data": {
            "text/plain": [
              "AIMessage(content=' \\n```python\\ndef add(x, y):\\n    return x + y\\n\\nnum1 = 10\\nnum2 = 20\\nsum = add(num1, num2)\\nprint(\"The sum of {0} and {1} is {2}\".format(num1, num2, sum))\\n```', additional_kwargs={}, example=False)"
            ]
          },
          "metadata": {},
          "execution_count": 5
        }
      ]
    },
    {
      "cell_type": "code",
      "execution_count": 6,
      "metadata": {
        "id": "7Omp6y3XGpE-",
        "colab": {
          "base_uri": "https://localhost:8080/"
        },
        "outputId": "dbec41fe-21a1-45f4-c918-6321dff09bd6"
      },
      "outputs": [
        {
          "output_type": "execute_result",
          "data": {
            "text/plain": [
              "AIMessage(content=' ```python\\nnum1 = 10 \\nnum2 = 20\\nsum = num1 + num2 \\nprint(\"The sum of {0} and {1} is {2}\".format(num1, num2, sum))\\n```', additional_kwargs={}, example=False)"
            ]
          },
          "metadata": {},
          "execution_count": 6
        }
      ],
      "source": [
        "chat(messages)"
      ]
    },
    {
      "cell_type": "code",
      "source": [
        "chat(messages)"
      ],
      "metadata": {
        "colab": {
          "base_uri": "https://localhost:8080/"
        },
        "id": "EGRdQETUKlda",
        "outputId": "929a04de-aa7c-4558-a9eb-53ae9b6f9d0d"
      },
      "execution_count": 7,
      "outputs": [
        {
          "output_type": "execute_result",
          "data": {
            "text/plain": [
              "AIMessage(content=' ```python\\nnum1 = 10\\nnum2 = 20\\nsum = num1 + num2 \\nprint(\"The sum of {0} and {1} is {2}\".format(num1, num2, sum))\\n```', additional_kwargs={}, example=False)"
            ]
          },
          "metadata": {},
          "execution_count": 7
        }
      ]
    },
    {
      "cell_type": "code",
      "source": [
        "chat(messages)"
      ],
      "metadata": {
        "colab": {
          "base_uri": "https://localhost:8080/"
        },
        "id": "JYvMrws-KlgN",
        "outputId": "63ba16d6-f67b-468d-dddd-3074224a3453"
      },
      "execution_count": 8,
      "outputs": [
        {
          "output_type": "execute_result",
          "data": {
            "text/plain": [
              "AIMessage(content=' ```python\\nnum1 = 10  \\nnum2 = 20\\nsum = num1 + num2 \\nprint(\"The sum of {0} and {1} is {2}\".format(num1, num2, sum))\\n```', additional_kwargs={}, example=False)"
            ]
          },
          "metadata": {},
          "execution_count": 8
        }
      ]
    },
    {
      "cell_type": "code",
      "source": [
        "chat(messages)"
      ],
      "metadata": {
        "colab": {
          "base_uri": "https://localhost:8080/"
        },
        "id": "hJWYnbTgKli0",
        "outputId": "21b434df-3052-4c6a-8505-8f3e8efbcfca"
      },
      "execution_count": 9,
      "outputs": [
        {
          "output_type": "execute_result",
          "data": {
            "text/plain": [
              "AIMessage(content=' ```python \\nnum1 = 10 \\nnum2 = 20\\nsum = num1 + num2\\nprint(\"The sum of {0} and {1} is {2}\".format(num1, num2, sum))\\n```', additional_kwargs={}, example=False)"
            ]
          },
          "metadata": {},
          "execution_count": 9
        }
      ]
    },
    {
      "cell_type": "code",
      "source": [
        "chat(messages)"
      ],
      "metadata": {
        "colab": {
          "base_uri": "https://localhost:8080/"
        },
        "id": "344wdmHcKqox",
        "outputId": "e119b286-5d0a-4628-a38a-702de5795796"
      },
      "execution_count": 10,
      "outputs": [
        {
          "output_type": "execute_result",
          "data": {
            "text/plain": [
              "AIMessage(content=' ```python\\nnum1 = 10 \\nnum2 = 20\\nsum = num1 + num2\\nprint(sum)\\n```', additional_kwargs={}, example=False)"
            ]
          },
          "metadata": {},
          "execution_count": 10
        }
      ]
    },
    {
      "cell_type": "code",
      "source": [
        "chat(messages)"
      ],
      "metadata": {
        "colab": {
          "base_uri": "https://localhost:8080/"
        },
        "id": "Pvw59a2mKqrJ",
        "outputId": "0e94a59f-b1d2-462c-fbc3-e3374c309dd9"
      },
      "execution_count": 11,
      "outputs": [
        {
          "output_type": "execute_result",
          "data": {
            "text/plain": [
              "AIMessage(content=' ```python\\nnum1 = 10 \\nnum2 = 20\\nsum = num1 + num2 \\nprint(\"The sum of {0} and {1} is {2}\".format(num1, num2, sum))\\n```', additional_kwargs={}, example=False)"
            ]
          },
          "metadata": {},
          "execution_count": 11
        }
      ]
    },
    {
      "cell_type": "code",
      "source": [
        "chat(messages)"
      ],
      "metadata": {
        "colab": {
          "base_uri": "https://localhost:8080/"
        },
        "id": "NWdXSF9GKqtn",
        "outputId": "a1d0a156-07d9-4e90-f45f-ad4b792d8e11"
      },
      "execution_count": 12,
      "outputs": [
        {
          "output_type": "execute_result",
          "data": {
            "text/plain": [
              "AIMessage(content=' Here is sample Python code to add two numbers:\\n\\n```python  \\nnum1 = 10  \\nnum2 = 20  \\nsum = num1 + num2  \\nprint(\"The sum of {0} and {1} is {2}\".format(num1, num2, sum))\\n```', additional_kwargs={}, example=False)"
            ]
          },
          "metadata": {},
          "execution_count": 12
        }
      ]
    },
    {
      "cell_type": "code",
      "source": [
        "chat(messages)"
      ],
      "metadata": {
        "colab": {
          "base_uri": "https://localhost:8080/"
        },
        "id": "M6tdgkOeKqwG",
        "outputId": "6b83596f-9ccb-4fe6-91ca-cf8034c17fd0"
      },
      "execution_count": 13,
      "outputs": [
        {
          "output_type": "execute_result",
          "data": {
            "text/plain": [
              "AIMessage(content=' ```python\\ndef add_numbers(a, b):\\n    return a + b\\n```  \\n```', additional_kwargs={}, example=False)"
            ]
          },
          "metadata": {},
          "execution_count": 13
        }
      ]
    },
    {
      "cell_type": "code",
      "source": [
        "chat(messages)"
      ],
      "metadata": {
        "colab": {
          "base_uri": "https://localhost:8080/"
        },
        "id": "wjCpJlvTKq4s",
        "outputId": "c00f965a-e049-4a0c-ccb6-1bf766cbc6bf"
      },
      "execution_count": 14,
      "outputs": [
        {
          "output_type": "execute_result",
          "data": {
            "text/plain": [
              "AIMessage(content=' ```python\\nnum1 = 10 \\nnum2 = 20\\nsum = num1 + num2\\nprint(\"The sum is:\", sum)\\n```', additional_kwargs={}, example=False)"
            ]
          },
          "metadata": {},
          "execution_count": 14
        }
      ]
    }
  ]
}